{
 "cells": [
  {
   "cell_type": "markdown",
   "metadata": {},
   "source": [
    "## 第2章 数据表示和处理"
   ]
  },
  {
   "cell_type": "markdown",
   "metadata": {},
   "source": [
    "<font size=4 >\n",
    "学习目标：<br>\n",
    "(1)掌握常量、变量、标识符及关键字等概念<br>\n",
    "(2)掌握Python中的基本数据类型（数值、字符串及布尔型）以及处理<br>\n",
    "(3)掌握表达式（算式表达式、关系表达式、逻辑表达式）及赋值语句<br>\n",
    "(4)掌握数据的输入和输出<br>"
   ]
  },
  {
   "cell_type": "markdown",
   "metadata": {},
   "source": [
    "## 2.1 数据类型"
   ]
  },
  {
   "cell_type": "markdown",
   "metadata": {},
   "source": [
    "## 2.1.1引例—圆面积计算\n",
    "### 【例2.1】改编：<font color=\"red\" size=4><b>假设半径为25，计算圆面积。试比较下述两段代码，哪个更好？"
   ]
  },
  {
   "cell_type": "code",
   "execution_count": 3,
   "metadata": {},
   "outputs": [
    {
     "name": "stdout",
     "output_type": "stream",
     "text": [
      "1963.4375000000002\n"
     ]
    }
   ],
   "source": [
    "print(3.1415*25*25) "
   ]
  },
  {
   "cell_type": "code",
   "execution_count": 4,
   "metadata": {},
   "outputs": [
    {
     "name": "stdout",
     "output_type": "stream",
     "text": [
      "1963.4375000000002\n"
     ]
    }
   ],
   "source": [
    "radius=25    #用radius变量作为半径\n",
    "area=3.1415*radius*radius    #计算面积\n",
    "print(area)        #显示结果   "
   ]
  },
  {
   "cell_type": "markdown",
   "metadata": {},
   "source": [
    "<font color=\"red\" size=4.5><b>程序的可维护性（变量、注释）"
   ]
  },
  {
   "cell_type": "markdown",
   "metadata": {},
   "source": [
    "## 2.1.3 常量、变量和标识符"
   ]
  },
  {
   "cell_type": "markdown",
   "metadata": {},
   "source": [
    "<font color=\"blue\" size=3>1.常量：在程序运行期间不发生改变的量，如3.14，是浮点数常量；如123，是整数常量；如'hello'是字符串常量。<br>\n",
    "2.变量：采用“变量”来保存和表示程序中可以改变的量，需要给它们关联一个标识符（名字），关联标识符的过程称为命名。必须按标识符的命名规则对其命名。<br>\n",
    "3.标识符：在程序中为一些要处理的对象起的名字，包括变量名、函数名、类名、对象名等。<br>\n",
    "标识符命名规则：以字母、汉字或下划线开头，后面可以跟字母、汉字、数字和下划线。<br>"
   ]
  },
  {
   "cell_type": "markdown",
   "metadata": {},
   "source": [
    "以下标识符合法：area、x123、a_b  <br>\n",
    "以下标识符不合法：x-y、x  y、123x"
   ]
  },
  {
   "cell_type": "markdown",
   "metadata": {},
   "source": [
    "<font color=\"blue\" size=3>\n",
    "4.关键字：Python语言保留某些单词作特殊用途，这些单词称为关键字，也称为保留字。用户定义的标识符（变量名、函数名等）不能与关键字相同。"
   ]
  },
  {
   "cell_type": "markdown",
   "metadata": {},
   "source": [
    "### 【例2.3】显示python中的关键字（35个）"
   ]
  },
  {
   "cell_type": "code",
   "execution_count": 5,
   "metadata": {},
   "outputs": [
    {
     "name": "stdout",
     "output_type": "stream",
     "text": [
      "['False', 'None', 'True', '__peg_parser__', 'and', 'as', 'assert', 'async', 'await', 'break', 'class', 'continue', 'def', 'del', 'elif', 'else', 'except', 'finally', 'for', 'from', 'global', 'if', 'import', 'in', 'is', 'lambda', 'nonlocal', 'not', 'or', 'pass', 'raise', 'return', 'try', 'while', 'with', 'yield']\n"
     ]
    }
   ],
   "source": [
    "import keyword\n",
    "print(keyword.kwlist)"
   ]
  },
  {
   "cell_type": "code",
   "execution_count": 6,
   "metadata": {},
   "outputs": [
    {
     "ename": "SyntaxError",
     "evalue": "invalid syntax (638614946.py, line 2)",
     "output_type": "error",
     "traceback": [
      "\u001b[1;36m  File \u001b[1;32m\"C:\\Users\\Administrator.DESKTOP-7VP2BPF\\AppData\\Local\\Temp\\ipykernel_172\\638614946.py\"\u001b[1;36m, line \u001b[1;32m2\u001b[0m\n\u001b[1;33m    if=1\u001b[0m\n\u001b[1;37m      ^\u001b[0m\n\u001b[1;31mSyntaxError\u001b[0m\u001b[1;31m:\u001b[0m invalid syntax\n"
     ]
    }
   ],
   "source": [
    "#使用关键字if，报错\n",
    "if=1\n",
    "print(if)"
   ]
  },
  {
   "cell_type": "code",
   "execution_count": 5,
   "metadata": {},
   "outputs": [],
   "source": [
    "#使用整型类int不报错\n",
    "\n",
    "#int=1\n",
    "#print(int)\n",
    "\n",
    "#但是导致int()无效， 如int(3.14)"
   ]
  },
  {
   "cell_type": "code",
   "execution_count": 8,
   "metadata": {
    "collapsed": true
   },
   "outputs": [
    {
     "name": "stdout",
     "output_type": "stream",
     "text": [
      "Help on built-in module math:\n",
      "\n",
      "NAME\n",
      "    math\n",
      "\n",
      "DESCRIPTION\n",
      "    This module provides access to the mathematical functions\n",
      "    defined by the C standard.\n",
      "\n",
      "FUNCTIONS\n",
      "    acos(x, /)\n",
      "        Return the arc cosine (measured in radians) of x.\n",
      "        \n",
      "        The result is between 0 and pi.\n",
      "    \n",
      "    acosh(x, /)\n",
      "        Return the inverse hyperbolic cosine of x.\n",
      "    \n",
      "    asin(x, /)\n",
      "        Return the arc sine (measured in radians) of x.\n",
      "        \n",
      "        The result is between -pi/2 and pi/2.\n",
      "    \n",
      "    asinh(x, /)\n",
      "        Return the inverse hyperbolic sine of x.\n",
      "    \n",
      "    atan(x, /)\n",
      "        Return the arc tangent (measured in radians) of x.\n",
      "        \n",
      "        The result is between -pi/2 and pi/2.\n",
      "    \n",
      "    atan2(y, x, /)\n",
      "        Return the arc tangent (measured in radians) of y/x.\n",
      "        \n",
      "        Unlike atan(y/x), the signs of both x and y are considered.\n",
      "    \n",
      "    atanh(x, /)\n",
      "        Return the inverse hyperbolic tangent of x.\n",
      "    \n",
      "    ceil(x, /)\n",
      "        Return the ceiling of x as an Integral.\n",
      "        \n",
      "        This is the smallest integer >= x.\n",
      "    \n",
      "    comb(n, k, /)\n",
      "        Number of ways to choose k items from n items without repetition and without order.\n",
      "        \n",
      "        Evaluates to n! / (k! * (n - k)!) when k <= n and evaluates\n",
      "        to zero when k > n.\n",
      "        \n",
      "        Also called the binomial coefficient because it is equivalent\n",
      "        to the coefficient of k-th term in polynomial expansion of the\n",
      "        expression (1 + x)**n.\n",
      "        \n",
      "        Raises TypeError if either of the arguments are not integers.\n",
      "        Raises ValueError if either of the arguments are negative.\n",
      "    \n",
      "    copysign(x, y, /)\n",
      "        Return a float with the magnitude (absolute value) of x but the sign of y.\n",
      "        \n",
      "        On platforms that support signed zeros, copysign(1.0, -0.0)\n",
      "        returns -1.0.\n",
      "    \n",
      "    cos(x, /)\n",
      "        Return the cosine of x (measured in radians).\n",
      "    \n",
      "    cosh(x, /)\n",
      "        Return the hyperbolic cosine of x.\n",
      "    \n",
      "    degrees(x, /)\n",
      "        Convert angle x from radians to degrees.\n",
      "    \n",
      "    dist(p, q, /)\n",
      "        Return the Euclidean distance between two points p and q.\n",
      "        \n",
      "        The points should be specified as sequences (or iterables) of\n",
      "        coordinates.  Both inputs must have the same dimension.\n",
      "        \n",
      "        Roughly equivalent to:\n",
      "            sqrt(sum((px - qx) ** 2.0 for px, qx in zip(p, q)))\n",
      "    \n",
      "    erf(x, /)\n",
      "        Error function at x.\n",
      "    \n",
      "    erfc(x, /)\n",
      "        Complementary error function at x.\n",
      "    \n",
      "    exp(x, /)\n",
      "        Return e raised to the power of x.\n",
      "    \n",
      "    expm1(x, /)\n",
      "        Return exp(x)-1.\n",
      "        \n",
      "        This function avoids the loss of precision involved in the direct evaluation of exp(x)-1 for small x.\n",
      "    \n",
      "    fabs(x, /)\n",
      "        Return the absolute value of the float x.\n",
      "    \n",
      "    factorial(x, /)\n",
      "        Find x!.\n",
      "        \n",
      "        Raise a ValueError if x is negative or non-integral.\n",
      "    \n",
      "    floor(x, /)\n",
      "        Return the floor of x as an Integral.\n",
      "        \n",
      "        This is the largest integer <= x.\n",
      "    \n",
      "    fmod(x, y, /)\n",
      "        Return fmod(x, y), according to platform C.\n",
      "        \n",
      "        x % y may differ.\n",
      "    \n",
      "    frexp(x, /)\n",
      "        Return the mantissa and exponent of x, as pair (m, e).\n",
      "        \n",
      "        m is a float and e is an int, such that x = m * 2.**e.\n",
      "        If x is 0, m and e are both 0.  Else 0.5 <= abs(m) < 1.0.\n",
      "    \n",
      "    fsum(seq, /)\n",
      "        Return an accurate floating point sum of values in the iterable seq.\n",
      "        \n",
      "        Assumes IEEE-754 floating point arithmetic.\n",
      "    \n",
      "    gamma(x, /)\n",
      "        Gamma function at x.\n",
      "    \n",
      "    gcd(*integers)\n",
      "        Greatest Common Divisor.\n",
      "    \n",
      "    hypot(...)\n",
      "        hypot(*coordinates) -> value\n",
      "        \n",
      "        Multidimensional Euclidean distance from the origin to a point.\n",
      "        \n",
      "        Roughly equivalent to:\n",
      "            sqrt(sum(x**2 for x in coordinates))\n",
      "        \n",
      "        For a two dimensional point (x, y), gives the hypotenuse\n",
      "        using the Pythagorean theorem:  sqrt(x*x + y*y).\n",
      "        \n",
      "        For example, the hypotenuse of a 3/4/5 right triangle is:\n",
      "        \n",
      "            >>> hypot(3.0, 4.0)\n",
      "            5.0\n",
      "    \n",
      "    isclose(a, b, *, rel_tol=1e-09, abs_tol=0.0)\n",
      "        Determine whether two floating point numbers are close in value.\n",
      "        \n",
      "          rel_tol\n",
      "            maximum difference for being considered \"close\", relative to the\n",
      "            magnitude of the input values\n",
      "          abs_tol\n",
      "            maximum difference for being considered \"close\", regardless of the\n",
      "            magnitude of the input values\n",
      "        \n",
      "        Return True if a is close in value to b, and False otherwise.\n",
      "        \n",
      "        For the values to be considered close, the difference between them\n",
      "        must be smaller than at least one of the tolerances.\n",
      "        \n",
      "        -inf, inf and NaN behave similarly to the IEEE 754 Standard.  That\n",
      "        is, NaN is not close to anything, even itself.  inf and -inf are\n",
      "        only close to themselves.\n",
      "    \n",
      "    isfinite(x, /)\n",
      "        Return True if x is neither an infinity nor a NaN, and False otherwise.\n",
      "    \n",
      "    isinf(x, /)\n",
      "        Return True if x is a positive or negative infinity, and False otherwise.\n",
      "    \n",
      "    isnan(x, /)\n",
      "        Return True if x is a NaN (not a number), and False otherwise.\n",
      "    \n",
      "    isqrt(n, /)\n",
      "        Return the integer part of the square root of the input.\n",
      "    \n",
      "    lcm(*integers)\n",
      "        Least Common Multiple.\n",
      "    \n",
      "    ldexp(x, i, /)\n",
      "        Return x * (2**i).\n",
      "        \n",
      "        This is essentially the inverse of frexp().\n",
      "    \n",
      "    lgamma(x, /)\n",
      "        Natural logarithm of absolute value of Gamma function at x.\n",
      "    \n",
      "    log(...)\n",
      "        log(x, [base=math.e])\n",
      "        Return the logarithm of x to the given base.\n",
      "        \n",
      "        If the base not specified, returns the natural logarithm (base e) of x.\n",
      "    \n",
      "    log10(x, /)\n",
      "        Return the base 10 logarithm of x.\n",
      "    \n",
      "    log1p(x, /)\n",
      "        Return the natural logarithm of 1+x (base e).\n",
      "        \n",
      "        The result is computed in a way which is accurate for x near zero.\n",
      "    \n",
      "    log2(x, /)\n",
      "        Return the base 2 logarithm of x.\n",
      "    \n",
      "    modf(x, /)\n",
      "        Return the fractional and integer parts of x.\n",
      "        \n",
      "        Both results carry the sign of x and are floats.\n",
      "    \n",
      "    nextafter(x, y, /)\n",
      "        Return the next floating-point value after x towards y.\n",
      "    \n",
      "    perm(n, k=None, /)\n",
      "        Number of ways to choose k items from n items without repetition and with order.\n",
      "        \n",
      "        Evaluates to n! / (n - k)! when k <= n and evaluates\n",
      "        to zero when k > n.\n",
      "        \n",
      "        If k is not specified or is None, then k defaults to n\n",
      "        and the function returns n!.\n",
      "        \n",
      "        Raises TypeError if either of the arguments are not integers.\n",
      "        Raises ValueError if either of the arguments are negative.\n",
      "    \n",
      "    pow(x, y, /)\n",
      "        Return x**y (x to the power of y).\n",
      "    \n",
      "    prod(iterable, /, *, start=1)\n",
      "        Calculate the product of all the elements in the input iterable.\n",
      "        \n",
      "        The default start value for the product is 1.\n",
      "        \n",
      "        When the iterable is empty, return the start value.  This function is\n",
      "        intended specifically for use with numeric values and may reject\n",
      "        non-numeric types.\n",
      "    \n",
      "    radians(x, /)\n",
      "        Convert angle x from degrees to radians.\n",
      "    \n",
      "    remainder(x, y, /)\n",
      "        Difference between x and the closest integer multiple of y.\n",
      "        \n",
      "        Return x - n*y where n*y is the closest integer multiple of y.\n",
      "        In the case where x is exactly halfway between two multiples of\n",
      "        y, the nearest even value of n is used. The result is always exact.\n",
      "    \n",
      "    sin(x, /)\n",
      "        Return the sine of x (measured in radians).\n",
      "    \n",
      "    sinh(x, /)\n",
      "        Return the hyperbolic sine of x.\n",
      "    \n",
      "    sqrt(x, /)\n",
      "        Return the square root of x.\n",
      "    \n",
      "    tan(x, /)\n",
      "        Return the tangent of x (measured in radians).\n",
      "    \n",
      "    tanh(x, /)\n",
      "        Return the hyperbolic tangent of x.\n",
      "    \n",
      "    trunc(x, /)\n",
      "        Truncates the Real x to the nearest Integral toward 0.\n",
      "        \n",
      "        Uses the __trunc__ magic method.\n",
      "    \n",
      "    ulp(x, /)\n",
      "        Return the value of the least significant bit of the float x.\n",
      "\n",
      "DATA\n",
      "    e = 2.718281828459045\n",
      "    inf = inf\n",
      "    nan = nan\n",
      "    pi = 3.141592653589793\n",
      "    tau = 6.283185307179586\n",
      "\n",
      "FILE\n",
      "    (built-in)\n",
      "\n",
      "\n"
     ]
    }
   ],
   "source": [
    "import math\n",
    "help(math)"
   ]
  },
  {
   "cell_type": "markdown",
   "metadata": {},
   "source": [
    "<font color=\"red\" size=3 ><b>赋值语句<br>\n",
    "变量=表达式     <font color=\"blue\" size=3>&nbsp;&nbsp;&nbsp;&nbsp;#先计算赋值号右侧表达式的值，然后将值赋值给左边的变量<br>\n",
    "赋值号：=<br>\n",
    "表达式：程序中产生或计算新数据值的代码，类似数学中的计算公式，通过表达式的运算形成运算结果。"
   ]
  },
  {
   "cell_type": "markdown",
   "metadata": {},
   "source": [
    "### 【例2.2】动态类型变量示例。\n",
    "#### python变量不需要声明/定义，直接通过赋值创建变量，变量的类型和值都可以改变。"
   ]
  },
  {
   "cell_type": "code",
   "execution_count": 9,
   "metadata": {},
   "outputs": [
    {
     "name": "stdout",
     "output_type": "stream",
     "text": [
      "<class 'int'>\n",
      "1431392381520\n",
      "1431392381520\n",
      "<class 'str'>\n",
      "1431394052400\n",
      "1431392381520\n"
     ]
    }
   ],
   "source": [
    "x=10     #变量x引指向整型数据对象10 （x存10地址），引用\n",
    "y=x\n",
    "print(type(x))  #type()获取变量x的数据类型\n",
    "print(id(x))   #id()函数获取变量引用的内存地址\n",
    "print(id(y))  # 小范围整形,赋予相同引用地址\n",
    "x='abc'  # 变量指向另外一个对象（x存“abc”地址）\n",
    "print(type(x))\n",
    "print(id(x))\n",
    "print(id(y))"
   ]
  },
  {
   "cell_type": "markdown",
   "metadata": {},
   "source": [
    "<font color=\"red\" size=3 ><b>变量赋值的本质：“值”存储在内存某地址中，对变量赋值是将变量指向该“值”对象。变量里存放的实际是“值”对象的位置信息（内存地址）。这种通过地址间接访问对象数据的方式，称为引用。<br>"
   ]
  },
  {
   "cell_type": "markdown",
   "metadata": {},
   "source": [
    "![](变量赋值本质.png)"
   ]
  },
  {
   "cell_type": "code",
   "execution_count": 10,
   "metadata": {},
   "outputs": [
    {
     "name": "stdout",
     "output_type": "stream",
     "text": [
      "10 <class 'int'>\n",
      "10 1431392381520\n",
      "10 1431392381520\n",
      "34872487 <class 'int'>\n",
      "34872487 1431470190384\n",
      "34872487 1431470190320\n"
     ]
    }
   ],
   "source": [
    "x=10\n",
    "y=10\n",
    "print(x,type(x))  #type()获取变量x的数据类型\n",
    "print(x,id(x))   #id()函数获取变量引用的内存地址\n",
    "print(y,id(y))   # 小范围整形或者str,赋予相同引用地址\n",
    "x=34872487\n",
    "y=34872487\n",
    "print(x,type(x))  #type()获取变量x的数据类型\n",
    "print(x,id(x))   #id()函数获取变量引用的内存地址\n",
    "print(y,id(y))   # 大范围整形或者str,赋予不同引用地址"
   ]
  },
  {
   "cell_type": "markdown",
   "metadata": {},
   "source": [
    "### 序列解包赋值, 多目标赋值"
   ]
  },
  {
   "cell_type": "code",
   "execution_count": 11,
   "metadata": {},
   "outputs": [
    {
     "name": "stdout",
     "output_type": "stream",
     "text": [
      "4 3\n",
      "3 4\n",
      "h e l l o\n"
     ]
    }
   ],
   "source": [
    "x=3\n",
    "y=4\n",
    "x,y = y,x   # 同步赋值又称序列赋值 #一一对应的关系\n",
    "print(x,y)\n",
    "\n",
    "x,y=3,4\n",
    "print(x,y)\n",
    "\n",
    "first,second,third,fourth,fifth=\"hello\"  # 按位赋值一个字符\n",
    "print(first,second,third,fourth,fifth)"
   ]
  },
  {
   "cell_type": "code",
   "execution_count": 12,
   "metadata": {},
   "outputs": [
    {
     "name": "stdout",
     "output_type": "stream",
     "text": [
      "5 5 5\n",
      "hello hello hello hello hello\n"
     ]
    }
   ],
   "source": [
    "x=y=z=5   # 多目标赋值\n",
    "print(x,y,z)\n",
    "first=second=third=fourth=fifth=\"hello\"   # 均赋值”hello”\n",
    "print(first,second,third,fourth,fifth)"
   ]
  },
  {
   "cell_type": "markdown",
   "metadata": {},
   "source": [
    "## 2.1.2 内置数据类型"
   ]
  },
  {
   "cell_type": "markdown",
   "metadata": {},
   "source": [
    "![](数据类型.png)"
   ]
  },
  {
   "cell_type": "markdown",
   "metadata": {},
   "source": [
    "<font color=\"red\" size=3><b>字符串既可以作为基本数据类型，也可以作为组合数据类型。"
   ]
  },
  {
   "cell_type": "markdown",
   "metadata": {},
   "source": [
    "## 2.2 数值数据的表示和处理"
   ]
  },
  {
   "cell_type": "markdown",
   "metadata": {},
   "source": [
    "## 2.2.1 数值数据常量"
   ]
  },
  {
   "cell_type": "markdown",
   "metadata": {},
   "source": [
    "### Python语言提供3种数值数据类型：整数、浮点数和复数，分别对应数学中的整数、实数和复数。"
   ]
  },
  {
   "cell_type": "markdown",
   "metadata": {},
   "source": [
    "### 整数类型的4种进制表示：十进制、二进制、八进制、十六进制"
   ]
  },
  {
   "cell_type": "markdown",
   "metadata": {},
   "source": [
    "| 进制种类 |   引导符号  |               描述                  |    示例|\n",
    "| :--: | :---- | :---- | :---- | \n",
    "| 十进制 |  无     |      由字符0到9组成              |例如：1010,-425| \n",
    "| 二进制 |   0b，0B   |      由字符0和1组成            |例如：0b101,0B101 |\n",
    "| 八进制 |   0o，0O   |      由字符0到7组成|例如：0o701,0O701   |\n",
    "|十六进制|   0x，0X   |由字符0到9以及字母a到f（字母A到F）组成|例如：0xA901,0XA901|"
   ]
  },
  {
   "cell_type": "code",
   "execution_count": 15,
   "metadata": {},
   "outputs": [
    {
     "name": "stdout",
     "output_type": "stream",
     "text": [
      "449\n",
      "<class 'int'>\n",
      "449\n",
      "<class 'int'>\n"
     ]
    }
   ],
   "source": [
    "x=0o701  #八进制 0o701\n",
    "print(x)\n",
    "print(type(x))\n",
    "\n",
    "y=1*8**0 + 0*8**1 + 7*8**2\n",
    "print(y)\n",
    "print(type(y))"
   ]
  },
  {
   "cell_type": "markdown",
   "metadata": {},
   "source": [
    "<font size=3 face=\"微软雅黑\"><font color=\"red\">type(object)内置函数可以返回object的数据类型"
   ]
  },
  {
   "cell_type": "code",
   "execution_count": 14,
   "metadata": {},
   "outputs": [
    {
     "name": "stdout",
     "output_type": "stream",
     "text": [
      "sys.int_info(bits_per_digit=30, sizeof_digit=4)\n"
     ]
    }
   ],
   "source": [
    "import sys\n",
    "print(sys.int_info)"
   ]
  },
  {
   "cell_type": "markdown",
   "metadata": {},
   "source": [
    "### 浮点数类型"
   ]
  },
  {
   "cell_type": "markdown",
   "metadata": {},
   "source": [
    "<font color=\"black\" size=3 face=\"微软雅黑\">\n",
    "浮点数类型等同于数学中的实数,\n",
    "<font color=\"red\" size=3 face=\"微软雅黑\">\n",
    "必须带小数部分，小数部分可以是0<br>\n",
    "由于精度问题，对浮点数的运算会有误差，应尽量避免浮点数（实数）间的相等性比较，可以判断是否接近"
   ]
  },
  {
   "cell_type": "markdown",
   "metadata": {},
   "source": [
    "#### 浮点数的2种表示方法：十进制和科学计数法"
   ]
  },
  {
   "cell_type": "markdown",
   "metadata": {},
   "source": [
    "&ensp;  \n",
    "<font color=\"red\" size=4.5 face=\"微软雅黑\">\n",
    "科学计数法：使用字母e或E作为幂的符号，以10为基数"
   ]
  },
  {
   "cell_type": "markdown",
   "metadata": {},
   "source": [
    "| 表示方法 |   示例  |    描述|\n",
    "| ----: |:----: |  ----: | \n",
    "| 十进制   |  0.0，3.1416，-77.，-2.17  |  无    | \n",
    "| 科学计数法|  9.6e4 ，10.5E-5， |9.6 * $10^{4}$，10.5 * $10^{-5}$|"
   ]
  },
  {
   "cell_type": "code",
   "execution_count": 18,
   "metadata": {
    "scrolled": true
   },
   "outputs": [
    {
     "name": "stdout",
     "output_type": "stream",
     "text": [
      "<class 'int'>\n",
      "5.0\n",
      "<class 'float'>\n"
     ]
    }
   ],
   "source": [
    "#统计软件有时用整数, 有的保留一位小数\n",
    "x=3\n",
    "print(type(x))\n",
    "y=2.0\n",
    "x=x+y   #整数与浮点数运算，结果为浮点数 \n",
    "print(x)\n",
    "print(type(x))"
   ]
  },
  {
   "cell_type": "code",
   "execution_count": 16,
   "metadata": {},
   "outputs": [
    {
     "name": "stdout",
     "output_type": "stream",
     "text": [
      "3.0\n"
     ]
    }
   ],
   "source": [
    "x=3.\n",
    "print(x)"
   ]
  },
  {
   "cell_type": "code",
   "execution_count": 17,
   "metadata": {},
   "outputs": [
    {
     "name": "stdout",
     "output_type": "stream",
     "text": [
      "sys.float_info(max=1.7976931348623157e+308, max_exp=1024, max_10_exp=308, min=2.2250738585072014e-308, min_exp=-1021, min_10_exp=-307, dig=15, mant_dig=53, epsilon=2.220446049250313e-16, radix=2, rounds=1)\n"
     ]
    }
   ],
   "source": [
    "import sys\n",
    "print(sys.float_info)"
   ]
  },
  {
   "cell_type": "code",
   "execution_count": 18,
   "metadata": {},
   "outputs": [
    {
     "name": "stdout",
     "output_type": "stream",
     "text": [
      "0.10000000000000003\n",
      "False\n",
      "True\n"
     ]
    }
   ],
   "source": [
    "import math\n",
    "print(0.4-0.3)\n",
    "print((0.4-0.3)==0.1)   #不精确存储数据\n",
    "print(math.isclose(0.4-0.3,0.1))"
   ]
  },
  {
   "cell_type": "markdown",
   "metadata": {},
   "source": [
    "### 复数类型"
   ]
  },
  {
   "cell_type": "markdown",
   "metadata": {},
   "source": [
    "#### 复数类型表示数学中的复数"
   ]
  },
  {
   "cell_type": "markdown",
   "metadata": {},
   "source": [
    "<font size=4.5 face=\"微软雅黑\">\n",
    "    求解$x^{2}$=-1，数学家发明了“虚数单位”，记为j，并规定j=$\\sqrt{-1}$，如果将实数看作一个数轴，虚数看成与实数垂直的正交数轴，j表示“逆时针旋转90<sup>。</sup>”，或者“逆时针旋转$\\frac{\\pi}{4}$”。\n"
   ]
  },
  {
   "cell_type": "markdown",
   "metadata": {},
   "source": [
    "<font size=4.5 face=\"微软雅黑\">\n",
    "复数可以看作是二元有序实数对(a,b)，表示为a+bj，其中a是实数部分，简称实部，b是虚数部分，简称虚部。根据图3.1，复数是实数在二维平面空间旋转的一种表示。在Python语言中，复数的虚数部分通过<font color=\"red\" ><B>J</B>或<font color=\"red\" ><B>j</B><font color=\"black\" >来表示。"
   ]
  },
  {
   "cell_type": "markdown",
   "metadata": {},
   "source": [
    "### 【例2.4】复数表示。"
   ]
  },
  {
   "cell_type": "code",
   "execution_count": 19,
   "metadata": {
    "scrolled": false
   },
   "outputs": [
    {
     "name": "stdout",
     "output_type": "stream",
     "text": [
      "(123.45+4.8j)\n",
      "123.45\n",
      "4.8\n"
     ]
    }
   ],
   "source": [
    "x=123.45+4.8j #实部 + 虚部j\n",
    "print(x)\n",
    "print(x.real)\n",
    "print(x.imag)"
   ]
  },
  {
   "cell_type": "code",
   "execution_count": 20,
   "metadata": {},
   "outputs": [
    {
     "name": "stdout",
     "output_type": "stream",
     "text": [
      "(10+0j)\n"
     ]
    }
   ],
   "source": [
    "x=complex(10)\n",
    "print(x)"
   ]
  },
  {
   "cell_type": "code",
   "execution_count": 21,
   "metadata": {},
   "outputs": [
    {
     "name": "stdout",
     "output_type": "stream",
     "text": [
      "(10+20.2j)\n"
     ]
    }
   ],
   "source": [
    "x=complex(10.0,20.2)\n",
    "print(x)"
   ]
  },
  {
   "cell_type": "code",
   "execution_count": 39,
   "metadata": {},
   "outputs": [
    {
     "name": "stdout",
     "output_type": "stream",
     "text": [
      "0.000123\n"
     ]
    }
   ],
   "source": [
    "print(1.23e-4+5.67e+89j.real) #实部是多少"
   ]
  },
  {
   "cell_type": "code",
   "execution_count": 40,
   "metadata": {
    "scrolled": true
   },
   "outputs": [
    {
     "name": "stdout",
     "output_type": "stream",
     "text": [
      "5.67e+89\n"
     ]
    }
   ],
   "source": [
    "print(1.23e-4+5.67e+89j.imag) #虚部是多少"
   ]
  },
  {
   "cell_type": "markdown",
   "metadata": {},
   "source": [
    "## 2.2.2 算术表达式"
   ]
  },
  {
   "cell_type": "markdown",
   "metadata": {},
   "source": [
    "<font color=\"red\" size=4.5><b>要点：Python解释器为数字类型提供数值运算操作符、数值运算函数、类型转换函数等操作方法。"
   ]
  },
  {
   "cell_type": "markdown",
   "metadata": {},
   "source": [
    "### 1. 算术运算符（9个）"
   ]
  },
  {
   "cell_type": "markdown",
   "metadata": {},
   "source": [
    "下面以x=20 ,y=6为例进行计算\n",
    "\n",
    "| 运算符 | 描述   | 实例                                                   |\n",
    "| ----: |:----: |  ----: | \n",
    "| +      | 加     | x+y，将x与y两个变量的值相加，输出结果 26                               |\n",
    "| -      | 减     | x-y，将x与y两个变量的值相减 输出结果 14            |\n",
    "| *      | 乘     | x * y ，将x与y两个变量的值相乘，  输出结果 120 |\n",
    "| <font color=\"red\">/      | 除     |（书写时，请注意该符号的方向）x /y  ，将x与y两个变量的值相除  输出结果 3.3333333333333335            |\n",
    "| <font color=\"red\">//     | 整除 | x  // y， 返回商的整数部分 输出结果 3     |\n",
    "|<font color=\"red\"> %      | 取余数   | x % y ，返回除法的余数 ， 输出结果 2                              |\n",
    "| <font color=\"red\">**     | 幂     | x**y  ，返回x的y次幂 输出结果 64000000 |  \n",
    "|-      | 取负值(单目运算）   | -x，输出结果-20                             |\n",
    "| +     | 本身 （单目运算）  | +x，输出结果20                            |\n",
    "\n"
   ]
  },
  {
   "cell_type": "markdown",
   "metadata": {},
   "source": [
    "<font color=\"red\" size=4.3>算术运算符优先级见下表（由高到低，同一行优先级相同）：\n",
    "\n",
    "| 运算符 | 描述   |优先级|\n",
    "| ----: |:----: |:----: |\n",
    "|** |幂运算 |最高|\n",
    "|+，-|正，负，单目运算 | 高  |\n",
    "|* ，/ ，//，% |乘，除，整除，取余 | 低  |\n",
    "|+，- |加，减| 最低|"
   ]
  },
  {
   "cell_type": "markdown",
   "metadata": {},
   "source": [
    "<font size=4 face=\"微软雅黑\">\n",
    "求下述<font color=\"red\"><b>表达式</b><font color=\"black\">的值"
   ]
  },
  {
   "cell_type": "code",
   "execution_count": 24,
   "metadata": {
    "scrolled": true
   },
   "outputs": [
    {
     "data": {
      "text/plain": [
       "2"
      ]
     },
     "execution_count": 24,
     "metadata": {},
     "output_type": "execute_result"
    }
   ],
   "source": [
    "1+130//10**2 #算术运算符优先级；先幂，整除，再加法"
   ]
  },
  {
   "cell_type": "code",
   "execution_count": 10,
   "metadata": {},
   "outputs": [
    {
     "data": {
      "text/plain": [
       "8.333333333333334"
      ]
     },
     "execution_count": 10,
     "metadata": {},
     "output_type": "execute_result"
    }
   ],
   "source": [
    "50/6  #整数与整数的运算，结果是浮点数"
   ]
  },
  {
   "cell_type": "code",
   "execution_count": 8,
   "metadata": {},
   "outputs": [
    {
     "data": {
      "text/plain": [
       "8"
      ]
     },
     "execution_count": 8,
     "metadata": {},
     "output_type": "execute_result"
    }
   ],
   "source": [
    "50//6 #整除 #海关需要对50箱货物进行抽检，每次设备最大只允许检查6箱，需要检查几次，剩几箱"
   ]
  },
  {
   "cell_type": "code",
   "execution_count": 9,
   "metadata": {
    "scrolled": true
   },
   "outputs": [
    {
     "data": {
      "text/plain": [
       "2"
      ]
     },
     "execution_count": 9,
     "metadata": {},
     "output_type": "execute_result"
    }
   ],
   "source": [
    "50%6"
   ]
  },
  {
   "cell_type": "code",
   "execution_count": 11,
   "metadata": {},
   "outputs": [
    {
     "data": {
      "text/plain": [
       "127.1"
      ]
     },
     "execution_count": 11,
     "metadata": {},
     "output_type": "execute_result"
    }
   ],
   "source": [
    "123+4.1   #整数与浮点数的运算，结果一定是浮点数\n",
    "         #统计软件上，有的包裹123kg, 有的小4.1kg"
   ]
  },
  {
   "cell_type": "markdown",
   "metadata": {},
   "source": [
    "<font size=4 face=\"微软雅黑\" ><b>\n",
    "【例2.5】输入秒数，利用算术运算符，以小时:分钟:秒形式显示"
   ]
  },
  {
   "cell_type": "code",
   "execution_count": 1,
   "metadata": {},
   "outputs": [
    {
     "name": "stdout",
     "output_type": "stream",
     "text": [
      "请输入秒数：7200+240+5\n",
      "2 : 4 : 5\n"
     ]
    }
   ],
   "source": [
    "x=eval(input(\"请输入秒数：\"))\n",
    "s=x%60      #求秒\n",
    "m=x//60%60 #求分钟\n",
    "h=x//3600      #求小时  \n",
    "print(h,\":\",m,\":\",s)"
   ]
  },
  {
   "cell_type": "code",
   "execution_count": null,
   "metadata": {},
   "outputs": [],
   "source": [
    "x=3600+120+3 #1小时2分3秒\n",
    "\n",
    "s=x%60      #求秒，不到1分钟的，都是秒的部分\n",
    "h=x//3600      #求小时，每加3600秒，多1小时\n",
    "\n",
    "m=x//60  #求总分钟\n",
    "print(\"总分钟\",m)\n",
    "m=m%60 #求分钟\n",
    "print(\"分钟\",m)\n",
    "\n",
    "print(h,\":\",m,\":\",s)"
   ]
  },
  {
   "cell_type": "markdown",
   "metadata": {},
   "source": [
    "#### 思考题：课本P262页，实验2，题4：编程利用input函数输入一个三位正整数，然后逆序输出。例如，输入734，输出437.（提示：利用取余取整算数运算符）"
   ]
  },
  {
   "cell_type": "markdown",
   "metadata": {},
   "source": [
    "### 增强（复合）赋值运算符"
   ]
  },
  {
   "cell_type": "markdown",
   "metadata": {},
   "source": [
    "| 运算符 | 描述             | 实例                      |\n",
    "| ------ | ---------------- | ------------------------- |\n",
    "| +=     | 加法赋值运算符   | c += a 等效于 c = c + a   |\n",
    "| -=     | 减法赋值运算符   | c -= a 等效于 c = c - a   |\n",
    "| *=     | 乘法赋值运算符   | c * = a 等效于 c = c * a   |\n",
    "| /=     | 除法赋值运算符   | c /= a 等效于 c = c / a   |\n",
    "| %=     | 取模赋值运算符   | c %= a 等效于 c = c % a   |\n",
    "| **=    | 幂赋值运算符     | c ** = a 等效于 c = c ** a |\n",
    "| //=    | 取整除赋值运算符 | c //= a 等效于 c = c // a |"
   ]
  },
  {
   "cell_type": "markdown",
   "metadata": {},
   "source": [
    "### 2.&nbsp;复合赋值（增强赋值）"
   ]
  },
  {
   "cell_type": "code",
   "execution_count": 1,
   "metadata": {
    "scrolled": true
   },
   "outputs": [
    {
     "name": "stdout",
     "output_type": "stream",
     "text": [
      "7\n",
      "1\n"
     ]
    }
   ],
   "source": [
    "#海关仓库有3箱苹果。随着一批新苹果的到来，仓库中的苹果数量增加了4箱。\n",
    "x=3\n",
    "x=x+4\n",
    "\n",
    "x=3\n",
    "x+=4 # 等价于x=x+4\n",
    "print(x)\n",
    "\n",
    "x=3\n",
    "x-=2 # 等价于x=x-2\n",
    "\n",
    "print(x)"
   ]
  },
  {
   "cell_type": "code",
   "execution_count": 3,
   "metadata": {},
   "outputs": [
    {
     "name": "stdout",
     "output_type": "stream",
     "text": [
      "60\n"
     ]
    }
   ],
   "source": [
    "#海关仓库有30箱苹果, 又发现一个同样的仓库\n",
    "a=30\n",
    "b=2\n",
    "a*= b    #相当于a=a*b，\n",
    "print(a)"
   ]
  },
  {
   "cell_type": "markdown",
   "metadata": {},
   "source": [
    "### 3.&nbsp;数据类型的转换（隐式、显式）"
   ]
  },
  {
   "cell_type": "code",
   "execution_count": 19,
   "metadata": {},
   "outputs": [
    {
     "name": "stdout",
     "output_type": "stream",
     "text": [
      "5.1\n",
      "<class 'float'>\n"
     ]
    }
   ],
   "source": [
    "#统计软件有时用整数, 有的保留一位小数\n",
    "x=3+2.1  \n",
    "print(x)\n",
    "print(type(x))"
   ]
  },
  {
   "cell_type": "code",
   "execution_count": 21,
   "metadata": {},
   "outputs": [
    {
     "name": "stdout",
     "output_type": "stream",
     "text": [
      "5\n",
      "<class 'int'>\n",
      "5 5\n"
     ]
    }
   ],
   "source": [
    "#如果一定想要结果为整数\n",
    "x=5.1\n",
    "y=int(x)\n",
    "print(y)\n",
    "print(type(y))\n",
    "\n",
    "#注意：结果是截取，不是四舍五入\n",
    "print(int(5.6),int(5.1))"
   ]
  },
  {
   "cell_type": "markdown",
   "metadata": {},
   "source": [
    "## 2.2.3 常用的数值类型函数"
   ]
  },
  {
   "cell_type": "markdown",
   "metadata": {},
   "source": [
    "### Python中的函数分为4类：\n",
    "（1）内置函数：在内置模块_builtins_中，可以直接调用<br>\n",
    "（2）标准库函数：先导入再调用函数，常用的标准库有math、random<br>\n",
    "（3）第三方库函数：先安装库，再导入模块，然后才能调用函数，如numpy、matplotlib库等<br>\n",
    "（4）用户自定义函数：用户自己辨析的函数<br>"
   ]
  },
  {
   "cell_type": "markdown",
   "metadata": {},
   "source": [
    "### 1.&nbsp;内置的数值类型函数"
   ]
  },
  {
   "cell_type": "markdown",
   "metadata": {},
   "source": [
    "| 函数 | 描述             | \n",
    "| ----: |:----: | \n",
    "| abs(x)    | x的绝对值 |\n",
    "| divmod(x,y)     | (x//y,x%y)，输出为二元组形式（也称为二元组类型）  |\n",
    "| pow(x,y [,z]) | ( x ** y ) % z，[..]表示参数可以省略，即pow(x,y),它与 x**y相同  |\n",
    "| round(x[,ndigits])    | 对x四舍五入，保留ndigits位小数。round(x)返回四舍五入的整数值|\n",
    "|max(x<sub>1</sub>,x<sub>2</sub>,...,x<sub>n</sub>)|x<sub>1</sub>,x<sub>2</sub>,...,x<sub>n</sub>的最大值，n没有限定|\n",
    "|min(x<sub>1</sub>,x<sub>2</sub>,...,x<sub>n</sub>)|x<sub>1</sub>,x<sub>2</sub>,...,x<sub>n</sub>的最小值，n没有限定|\n",
    " | sum([x<sub>1</sub>,x<sub>2</sub>,...,x<sub>n</sub>]) |求和，可嵌套|"
   ]
  },
  {
   "cell_type": "markdown",
   "metadata": {},
   "source": [
    "<font size=4 face=\"微软雅黑\">\n",
    "求下述<font color=\"red\"><b>表达式</b><font color=\"black\">的值"
   ]
  },
  {
   "cell_type": "code",
   "execution_count": 2,
   "metadata": {},
   "outputs": [
    {
     "data": {
      "text/plain": [
       "5.0"
      ]
     },
     "execution_count": 2,
     "metadata": {},
     "output_type": "execute_result"
    }
   ],
   "source": [
    "abs(-5.0) #"
   ]
  },
  {
   "cell_type": "code",
   "execution_count": 3,
   "metadata": {},
   "outputs": [
    {
     "data": {
      "text/plain": [
       "5.0"
      ]
     },
     "execution_count": 3,
     "metadata": {},
     "output_type": "execute_result"
    }
   ],
   "source": [
    "abs(-3+4j)  #计算复数的绝对值，复数的绝对值是二维坐标系中复数位置到坐标原点的长度"
   ]
  },
  {
   "cell_type": "code",
   "execution_count": 4,
   "metadata": {},
   "outputs": [
    {
     "data": {
      "text/plain": [
       "(8, 2)"
      ]
     },
     "execution_count": 4,
     "metadata": {},
     "output_type": "execute_result"
    }
   ],
   "source": [
    "divmod(50,6) #海关需要对50箱货物进行抽检，每次设备最大只允许检查6箱，需要检查几次，剩几箱"
   ]
  },
  {
   "cell_type": "code",
   "execution_count": 5,
   "metadata": {},
   "outputs": [
    {
     "data": {
      "text/plain": [
       "8"
      ]
     },
     "execution_count": 5,
     "metadata": {},
     "output_type": "execute_result"
    }
   ],
   "source": [
    "pow(2,3)  # 边长2m的集装箱体积"
   ]
  },
  {
   "cell_type": "code",
   "execution_count": 6,
   "metadata": {},
   "outputs": [
    {
     "data": {
      "text/plain": [
       "3"
      ]
     },
     "execution_count": 6,
     "metadata": {},
     "output_type": "execute_result"
    }
   ],
   "source": [
    "pow(2,3,5) #计算2的3次方，其值再与5进行取模运算 #取剩余"
   ]
  },
  {
   "cell_type": "code",
   "execution_count": 5,
   "metadata": {},
   "outputs": [
    {
     "data": {
      "text/plain": [
       "4"
      ]
     },
     "execution_count": 5,
     "metadata": {},
     "output_type": "execute_result"
    }
   ],
   "source": [
    "round(3.5) #对统计数据进行四舍五入，比如人数"
   ]
  },
  {
   "cell_type": "code",
   "execution_count": 6,
   "metadata": {},
   "outputs": [
    {
     "data": {
      "text/plain": [
       "3.142"
      ]
     },
     "execution_count": 6,
     "metadata": {},
     "output_type": "execute_result"
    }
   ],
   "source": [
    "round(3.14159,3) #某软件只接受保留3位小数"
   ]
  },
  {
   "cell_type": "code",
   "execution_count": 9,
   "metadata": {},
   "outputs": [
    {
     "data": {
      "text/plain": [
       "5"
      ]
     },
     "execution_count": 9,
     "metadata": {},
     "output_type": "execute_result"
    }
   ],
   "source": [
    "max(1,2,3,4,5) #最大重量"
   ]
  },
  {
   "cell_type": "code",
   "execution_count": 10,
   "metadata": {},
   "outputs": [
    {
     "data": {
      "text/plain": [
       "1"
      ]
     },
     "execution_count": 10,
     "metadata": {},
     "output_type": "execute_result"
    }
   ],
   "source": [
    "min(1,2,3,4,5) #最小重量"
   ]
  },
  {
   "cell_type": "code",
   "execution_count": 11,
   "metadata": {},
   "outputs": [
    {
     "data": {
      "text/plain": [
       "6"
      ]
     },
     "execution_count": 11,
     "metadata": {},
     "output_type": "execute_result"
    }
   ],
   "source": [
    "sum([1,2,3]) #重量和"
   ]
  },
  {
   "cell_type": "markdown",
   "metadata": {},
   "source": [
    "### 2.&nbsp;内置的数据类型转换函数"
   ]
  },
  {
   "cell_type": "markdown",
   "metadata": {},
   "source": [
    "| 函数 | 描述  |实例|结果 \n",
    "| ----:|:----: | :----: |:----: |\n",
    "| int(x)  |若x为浮点数，取整，即直接去除小数部分 |int(2.5)|2\n",
    "|  &nbsp; |若x为数字字符串，则转换成整型 |int('23')|23\n",
    "| float(x)| 将x转换为浮点数 |float(3)|3.0\n",
    "|  &nbsp; |若x为数字字符串，则转换成浮点型 |float('23.4')|23.4\n",
    "| str(x)     | 将x转换为字符串  |str(23.4)|'23.4'\n",
    "|  &nbsp; | &nbsp;  |str(True)|'True'\n",
    "| bool(x)  | 将x转换为布尔类型 ，若x为数值，非0为True,0为False，若x为字符串，非空为True，空为False|bool(0)|False\n",
    "|  &nbsp; | &nbsp;  |bool(-1)|True\n",
    "|  &nbsp; | &nbsp;  |bool(\"\")|False\n",
    "| eval(x) |x为字符串对象，将以一个字符串类型的对象（往往是一个算术表达式）转换为表达式的值，表达式可以是字符（串）常量|eval('3+4')|7\n",
    "| complex( re[ ,im ]) | 生成一个复数，实部为re，虚部为im，re可以是整数、浮点数或字符串，im可以是整数或浮点数，但不能为字符串|  |"
   ]
  },
  {
   "cell_type": "markdown",
   "metadata": {},
   "source": [
    "### 复数不能直接转换成其它数字类型，可取出其实部或虚部"
   ]
  },
  {
   "cell_type": "markdown",
   "metadata": {},
   "source": [
    "<font size=4 face=\"微软雅黑\">\n",
    "你知道下述<font color=\"red\">代码段<font color=\"black\">的输出结果吗"
   ]
  },
  {
   "cell_type": "code",
   "execution_count": 12,
   "metadata": {},
   "outputs": [
    {
     "name": "stdout",
     "output_type": "stream",
     "text": [
      "4\n",
      "3\n"
     ]
    }
   ],
   "source": [
    "# 浮点型，整型内容的字符串\n",
    "# 但不可以是浮点内容的字符串\n",
    "x=int(4.5)\n",
    "print(x)\n",
    "y=int(\"3\")\n",
    "print(y)"
   ]
  },
  {
   "cell_type": "code",
   "execution_count": 31,
   "metadata": {},
   "outputs": [
    {
     "name": "stdout",
     "output_type": "stream",
     "text": [
      "输入a:3+4**2\n",
      "19\n"
     ]
    }
   ],
   "source": []
  },
  {
   "cell_type": "code",
   "execution_count": 14,
   "metadata": {
    "scrolled": true
   },
   "outputs": [
    {
     "ename": "ValueError",
     "evalue": "invalid literal for int() with base 10: '3.5'",
     "output_type": "error",
     "traceback": [
      "\u001b[1;31m---------------------------------------------------------------------------\u001b[0m",
      "\u001b[1;31mValueError\u001b[0m                                Traceback (most recent call last)",
      "\u001b[1;32m~\\AppData\\Local\\Temp\\ipykernel_4540\\413315418.py\u001b[0m in \u001b[0;36m<module>\u001b[1;34m\u001b[0m\n\u001b[1;32m----> 1\u001b[1;33m \u001b[0mx\u001b[0m\u001b[1;33m=\u001b[0m\u001b[0mint\u001b[0m\u001b[1;33m(\u001b[0m\u001b[1;34m\"3.5\"\u001b[0m\u001b[1;33m)\u001b[0m \u001b[1;31m# 不能直接转，要分两步  int()函数可以接受浮点数或者由数字组成的字符串，但无法接受包含小数点或指数的字符串。\u001b[0m\u001b[1;33m\u001b[0m\u001b[1;33m\u001b[0m\u001b[0m\n\u001b[0m\u001b[0;32m      2\u001b[0m \u001b[0mprint\u001b[0m\u001b[1;33m(\u001b[0m\u001b[0mx\u001b[0m\u001b[1;33m)\u001b[0m\u001b[1;33m\u001b[0m\u001b[1;33m\u001b[0m\u001b[0m\n",
      "\u001b[1;31mValueError\u001b[0m: invalid literal for int() with base 10: '3.5'"
     ]
    }
   ],
   "source": [
    "x=int(\"3.5\") # 不能直接转，要分两步  int()函数可以接受浮点数或者由数字组成的字符串，但无法接受包含小数点或指数的字符串。\n",
    "print(x)"
   ]
  },
  {
   "cell_type": "code",
   "execution_count": 23,
   "metadata": {},
   "outputs": [
    {
     "name": "stdout",
     "output_type": "stream",
     "text": [
      "3\n"
     ]
    }
   ],
   "source": [
    "#必须首先转为float， 再用int（）\n",
    "x=int(float(\"3.5\"))\n",
    "print(x)"
   ]
  },
  {
   "cell_type": "code",
   "execution_count": 30,
   "metadata": {},
   "outputs": [
    {
     "name": "stdout",
     "output_type": "stream",
     "text": [
      "输入a:3+4**2\n",
      "19\n"
     ]
    }
   ],
   "source": [
    "a=eval(input(\"输入a:\")) # 3+4**2\n",
    "print(a)"
   ]
  },
  {
   "cell_type": "code",
   "execution_count": 16,
   "metadata": {},
   "outputs": [
    {
     "name": "stdout",
     "output_type": "stream",
     "text": [
      "1\n",
      "0\n"
     ]
    }
   ],
   "source": [
    "x=int(True)\n",
    "print(x)\n",
    "y=int(False)\n",
    "print(y)"
   ]
  },
  {
   "cell_type": "code",
   "execution_count": 17,
   "metadata": {},
   "outputs": [
    {
     "name": "stdout",
     "output_type": "stream",
     "text": [
      "1.0\n",
      "1.23\n",
      "0.0012\n"
     ]
    }
   ],
   "source": [
    "print(float(1))\n",
    "print(float(\"1.23\"))\n",
    "print(float(\"1.2e-3\"))"
   ]
  },
  {
   "cell_type": "code",
   "execution_count": 24,
   "metadata": {},
   "outputs": [
    {
     "name": "stdout",
     "output_type": "stream",
     "text": [
      "1\n",
      "<class 'str'>\n",
      "-1.0\n",
      "<class 'str'>\n"
     ]
    }
   ],
   "source": [
    "#在idle的交互式下运行，会显示\"\"\n",
    "print(str(1))\n",
    "print(type(str(1)))\n",
    "print(str(-1.0))\n",
    "print(type(str(-1.0)))"
   ]
  },
  {
   "cell_type": "code",
   "execution_count": 19,
   "metadata": {},
   "outputs": [
    {
     "name": "stdout",
     "output_type": "stream",
     "text": [
      "False\n",
      "True\n"
     ]
    }
   ],
   "source": [
    "print(bool(0)) #\n",
    "print(bool(-100)) #非0即1"
   ]
  },
  {
   "cell_type": "code",
   "execution_count": 24,
   "metadata": {},
   "outputs": [
    {
     "name": "stdout",
     "output_type": "stream",
     "text": [
      "5\n"
     ]
    }
   ],
   "source": [
    "print(eval(\"2+3\"))"
   ]
  },
  {
   "cell_type": "code",
   "execution_count": 25,
   "metadata": {},
   "outputs": [
    {
     "name": "stdout",
     "output_type": "stream",
     "text": [
      "7\n"
     ]
    }
   ],
   "source": [
    "print(eval(\"1+3*2\"))"
   ]
  },
  {
   "cell_type": "code",
   "execution_count": 26,
   "metadata": {},
   "outputs": [
    {
     "ename": "TypeError",
     "evalue": "eval() arg 1 must be a string, bytes or code object",
     "output_type": "error",
     "traceback": [
      "\u001b[1;31m---------------------------------------------------------------------------\u001b[0m",
      "\u001b[1;31mTypeError\u001b[0m                                 Traceback (most recent call last)",
      "\u001b[1;32m~\\AppData\\Local\\Temp\\ipykernel_4540\\457022624.py\u001b[0m in \u001b[0;36m<module>\u001b[1;34m\u001b[0m\n\u001b[1;32m----> 1\u001b[1;33m \u001b[0mprint\u001b[0m\u001b[1;33m(\u001b[0m\u001b[0meval\u001b[0m\u001b[1;33m(\u001b[0m\u001b[1;36m5\u001b[0m\u001b[1;33m)\u001b[0m\u001b[1;33m)\u001b[0m \u001b[1;31m#eval函数中的参数必须为字符串、字节等类型数据\u001b[0m\u001b[1;33m\u001b[0m\u001b[1;33m\u001b[0m\u001b[0m\n\u001b[0m",
      "\u001b[1;31mTypeError\u001b[0m: eval() arg 1 must be a string, bytes or code object"
     ]
    }
   ],
   "source": [
    "print(eval(5)) #eval函数中的参数必须为字符串、字节等类型数据"
   ]
  },
  {
   "cell_type": "code",
   "execution_count": 25,
   "metadata": {},
   "outputs": [
    {
     "name": "stdout",
     "output_type": "stream",
     "text": [
      "请输入一个数：123.45\n",
      "123.45 <class 'float'>\n"
     ]
    }
   ],
   "source": [
    "x=eval(input(\"请输入一个数：\"))#\"123.45\"\n",
    "print(x,type(x))"
   ]
  },
  {
   "cell_type": "code",
   "execution_count": 28,
   "metadata": {},
   "outputs": [
    {
     "name": "stdout",
     "output_type": "stream",
     "text": [
      "123.45\n",
      "<class 'float'>\n"
     ]
    }
   ],
   "source": [
    "x=eval(\"123.45\")\n",
    "print(x)\n",
    "print(type(x))"
   ]
  },
  {
   "cell_type": "code",
   "execution_count": 29,
   "metadata": {
    "scrolled": true
   },
   "outputs": [
    {
     "name": "stdout",
     "output_type": "stream",
     "text": [
      "3\n"
     ]
    }
   ],
   "source": [
    "hello=3\n",
    "print(eval(\"hello\"))  #相当于去除了hello外的引号，变为hello，认为是变量名，而之前又未曾定义过该变量"
   ]
  },
  {
   "cell_type": "code",
   "execution_count": 30,
   "metadata": {},
   "outputs": [
    {
     "name": "stdout",
     "output_type": "stream",
     "text": [
      "hello\n"
     ]
    }
   ],
   "source": [
    "print(eval(\"'hello'\")) #相当于去除了hello最外层的一对引号，变成'hello'"
   ]
  },
  {
   "cell_type": "markdown",
   "metadata": {},
   "source": [
    "<font size=4 face=\"微软雅黑\">\n",
    "<font color=\"red\">小结：不同类型数据间运算，会发生隐式类型转换。转换规则：低类型向高类型转换。$ bool<int < float< complex$"
   ]
  },
  {
   "cell_type": "code",
   "execution_count": 29,
   "metadata": {},
   "outputs": [
    {
     "name": "stdout",
     "output_type": "stream",
     "text": [
      "4.5\n",
      "(5.2+2j)\n"
     ]
    }
   ],
   "source": [
    "print(3+1.5)\n",
    "print(2+(3.2+2j))"
   ]
  },
  {
   "cell_type": "markdown",
   "metadata": {},
   "source": [
    "### 3. math库（共提供4个数学常数和44个函数） P26-27页"
   ]
  },
  {
   "cell_type": "markdown",
   "metadata": {},
   "source": [
    "<font size=4 face=\"微软雅黑\">\n",
    "    库引用方法1：<font color=\"red\">\n",
    "    import  <库名>  \n",
    "    \n",
    "   <font color=\"black\">#在后续代码使用库中的函数时，需在函数名前加<库名>.，如： "
   ]
  },
  {
   "cell_type": "markdown",
   "metadata": {},
   "source": [
    "###  【例2.8】输入角度，显示对应的正弦值"
   ]
  },
  {
   "cell_type": "code",
   "execution_count": 33,
   "metadata": {},
   "outputs": [
    {
     "name": "stdout",
     "output_type": "stream",
     "text": [
      "输入角度：90\n",
      "x= 90  sin(x)= 1.0\n"
     ]
    }
   ],
   "source": [
    "#输入角度，显式对应的正弦值\n",
    "import math\n",
    "x=int(input('输入角度：'))\n",
    "y=math.sin(x*math.pi/180)\n",
    "print(\"x=\",x,\" sin(x)=\",y)"
   ]
  },
  {
   "cell_type": "markdown",
   "metadata": {},
   "source": [
    "<font size=4 face=\"微软雅黑\">\n",
    "    库引用方法2：<font color=\"red\">\n",
    "    from <库名>  import *\n",
    "    \n",
    "   <font color=\"black\">#在后续代码使用库中的函数时，无需在函数名前加<库名>.，如：   "
   ]
  },
  {
   "cell_type": "code",
   "execution_count": 34,
   "metadata": {},
   "outputs": [
    {
     "name": "stdout",
     "output_type": "stream",
     "text": [
      "输入角度：90\n",
      "x= 90  sin(x)= 1.0\n"
     ]
    }
   ],
   "source": [
    "#输入角度，显式对应的正弦值\n",
    "from math import *\n",
    "x=int(input('输入角度：'))\n",
    "y=sin(x*math.pi/180)\n",
    "print(\"x=\",x,\" sin(x)=\",y)"
   ]
  },
  {
   "cell_type": "markdown",
   "metadata": {},
   "source": [
    "<font size=4 face=\"微软雅黑\">\n",
    "    库引用方法3：<font color=\"red\">\n",
    "    from <库名> import <函数名>\n",
    "    \n",
    "   <font color=\"black\">#在后续代码使用该函数时，无需在函数名前加<库名>.，如："
   ]
  },
  {
   "cell_type": "code",
   "execution_count": 35,
   "metadata": {},
   "outputs": [
    {
     "name": "stdout",
     "output_type": "stream",
     "text": [
      "输入角度：90\n",
      "x= 90  sin(x)= 1.0\n"
     ]
    }
   ],
   "source": [
    "from math import sin\n",
    "x=int(input('输入角度：'))\n",
    "y=sin(x*math.pi/180)\n",
    "print(\"x=\",x,\" sin(x)=\",y)"
   ]
  },
  {
   "cell_type": "code",
   "execution_count": 36,
   "metadata": {
    "collapsed": true
   },
   "outputs": [
    {
     "name": "stdout",
     "output_type": "stream",
     "text": [
      "Help on built-in module math:\n",
      "\n",
      "NAME\n",
      "    math\n",
      "\n",
      "DESCRIPTION\n",
      "    This module provides access to the mathematical functions\n",
      "    defined by the C standard.\n",
      "\n",
      "FUNCTIONS\n",
      "    acos(x, /)\n",
      "        Return the arc cosine (measured in radians) of x.\n",
      "        \n",
      "        The result is between 0 and pi.\n",
      "    \n",
      "    acosh(x, /)\n",
      "        Return the inverse hyperbolic cosine of x.\n",
      "    \n",
      "    asin(x, /)\n",
      "        Return the arc sine (measured in radians) of x.\n",
      "        \n",
      "        The result is between -pi/2 and pi/2.\n",
      "    \n",
      "    asinh(x, /)\n",
      "        Return the inverse hyperbolic sine of x.\n",
      "    \n",
      "    atan(x, /)\n",
      "        Return the arc tangent (measured in radians) of x.\n",
      "        \n",
      "        The result is between -pi/2 and pi/2.\n",
      "    \n",
      "    atan2(y, x, /)\n",
      "        Return the arc tangent (measured in radians) of y/x.\n",
      "        \n",
      "        Unlike atan(y/x), the signs of both x and y are considered.\n",
      "    \n",
      "    atanh(x, /)\n",
      "        Return the inverse hyperbolic tangent of x.\n",
      "    \n",
      "    ceil(x, /)\n",
      "        Return the ceiling of x as an Integral.\n",
      "        \n",
      "        This is the smallest integer >= x.\n",
      "    \n",
      "    comb(n, k, /)\n",
      "        Number of ways to choose k items from n items without repetition and without order.\n",
      "        \n",
      "        Evaluates to n! / (k! * (n - k)!) when k <= n and evaluates\n",
      "        to zero when k > n.\n",
      "        \n",
      "        Also called the binomial coefficient because it is equivalent\n",
      "        to the coefficient of k-th term in polynomial expansion of the\n",
      "        expression (1 + x)**n.\n",
      "        \n",
      "        Raises TypeError if either of the arguments are not integers.\n",
      "        Raises ValueError if either of the arguments are negative.\n",
      "    \n",
      "    copysign(x, y, /)\n",
      "        Return a float with the magnitude (absolute value) of x but the sign of y.\n",
      "        \n",
      "        On platforms that support signed zeros, copysign(1.0, -0.0)\n",
      "        returns -1.0.\n",
      "    \n",
      "    cos(x, /)\n",
      "        Return the cosine of x (measured in radians).\n",
      "    \n",
      "    cosh(x, /)\n",
      "        Return the hyperbolic cosine of x.\n",
      "    \n",
      "    degrees(x, /)\n",
      "        Convert angle x from radians to degrees.\n",
      "    \n",
      "    dist(p, q, /)\n",
      "        Return the Euclidean distance between two points p and q.\n",
      "        \n",
      "        The points should be specified as sequences (or iterables) of\n",
      "        coordinates.  Both inputs must have the same dimension.\n",
      "        \n",
      "        Roughly equivalent to:\n",
      "            sqrt(sum((px - qx) ** 2.0 for px, qx in zip(p, q)))\n",
      "    \n",
      "    erf(x, /)\n",
      "        Error function at x.\n",
      "    \n",
      "    erfc(x, /)\n",
      "        Complementary error function at x.\n",
      "    \n",
      "    exp(x, /)\n",
      "        Return e raised to the power of x.\n",
      "    \n",
      "    expm1(x, /)\n",
      "        Return exp(x)-1.\n",
      "        \n",
      "        This function avoids the loss of precision involved in the direct evaluation of exp(x)-1 for small x.\n",
      "    \n",
      "    fabs(x, /)\n",
      "        Return the absolute value of the float x.\n",
      "    \n",
      "    factorial(x, /)\n",
      "        Find x!.\n",
      "        \n",
      "        Raise a ValueError if x is negative or non-integral.\n",
      "    \n",
      "    floor(x, /)\n",
      "        Return the floor of x as an Integral.\n",
      "        \n",
      "        This is the largest integer <= x.\n",
      "    \n",
      "    fmod(x, y, /)\n",
      "        Return fmod(x, y), according to platform C.\n",
      "        \n",
      "        x % y may differ.\n",
      "    \n",
      "    frexp(x, /)\n",
      "        Return the mantissa and exponent of x, as pair (m, e).\n",
      "        \n",
      "        m is a float and e is an int, such that x = m * 2.**e.\n",
      "        If x is 0, m and e are both 0.  Else 0.5 <= abs(m) < 1.0.\n",
      "    \n",
      "    fsum(seq, /)\n",
      "        Return an accurate floating point sum of values in the iterable seq.\n",
      "        \n",
      "        Assumes IEEE-754 floating point arithmetic.\n",
      "    \n",
      "    gamma(x, /)\n",
      "        Gamma function at x.\n",
      "    \n",
      "    gcd(*integers)\n",
      "        Greatest Common Divisor.\n",
      "    \n",
      "    hypot(...)\n",
      "        hypot(*coordinates) -> value\n",
      "        \n",
      "        Multidimensional Euclidean distance from the origin to a point.\n",
      "        \n",
      "        Roughly equivalent to:\n",
      "            sqrt(sum(x**2 for x in coordinates))\n",
      "        \n",
      "        For a two dimensional point (x, y), gives the hypotenuse\n",
      "        using the Pythagorean theorem:  sqrt(x*x + y*y).\n",
      "        \n",
      "        For example, the hypotenuse of a 3/4/5 right triangle is:\n",
      "        \n",
      "            >>> hypot(3.0, 4.0)\n",
      "            5.0\n",
      "    \n",
      "    isclose(a, b, *, rel_tol=1e-09, abs_tol=0.0)\n",
      "        Determine whether two floating point numbers are close in value.\n",
      "        \n",
      "          rel_tol\n",
      "            maximum difference for being considered \"close\", relative to the\n",
      "            magnitude of the input values\n",
      "          abs_tol\n",
      "            maximum difference for being considered \"close\", regardless of the\n",
      "            magnitude of the input values\n",
      "        \n",
      "        Return True if a is close in value to b, and False otherwise.\n",
      "        \n",
      "        For the values to be considered close, the difference between them\n",
      "        must be smaller than at least one of the tolerances.\n",
      "        \n",
      "        -inf, inf and NaN behave similarly to the IEEE 754 Standard.  That\n",
      "        is, NaN is not close to anything, even itself.  inf and -inf are\n",
      "        only close to themselves.\n",
      "    \n",
      "    isfinite(x, /)\n",
      "        Return True if x is neither an infinity nor a NaN, and False otherwise.\n",
      "    \n",
      "    isinf(x, /)\n",
      "        Return True if x is a positive or negative infinity, and False otherwise.\n",
      "    \n",
      "    isnan(x, /)\n",
      "        Return True if x is a NaN (not a number), and False otherwise.\n",
      "    \n",
      "    isqrt(n, /)\n",
      "        Return the integer part of the square root of the input.\n",
      "    \n",
      "    lcm(*integers)\n",
      "        Least Common Multiple.\n",
      "    \n",
      "    ldexp(x, i, /)\n",
      "        Return x * (2**i).\n",
      "        \n",
      "        This is essentially the inverse of frexp().\n",
      "    \n",
      "    lgamma(x, /)\n",
      "        Natural logarithm of absolute value of Gamma function at x.\n",
      "    \n",
      "    log(...)\n",
      "        log(x, [base=math.e])\n",
      "        Return the logarithm of x to the given base.\n",
      "        \n",
      "        If the base not specified, returns the natural logarithm (base e) of x.\n",
      "    \n",
      "    log10(x, /)\n",
      "        Return the base 10 logarithm of x.\n",
      "    \n",
      "    log1p(x, /)\n",
      "        Return the natural logarithm of 1+x (base e).\n",
      "        \n",
      "        The result is computed in a way which is accurate for x near zero.\n",
      "    \n",
      "    log2(x, /)\n",
      "        Return the base 2 logarithm of x.\n",
      "    \n",
      "    modf(x, /)\n",
      "        Return the fractional and integer parts of x.\n",
      "        \n",
      "        Both results carry the sign of x and are floats.\n",
      "    \n",
      "    nextafter(x, y, /)\n",
      "        Return the next floating-point value after x towards y.\n",
      "    \n",
      "    perm(n, k=None, /)\n",
      "        Number of ways to choose k items from n items without repetition and with order.\n",
      "        \n",
      "        Evaluates to n! / (n - k)! when k <= n and evaluates\n",
      "        to zero when k > n.\n",
      "        \n",
      "        If k is not specified or is None, then k defaults to n\n",
      "        and the function returns n!.\n",
      "        \n",
      "        Raises TypeError if either of the arguments are not integers.\n",
      "        Raises ValueError if either of the arguments are negative.\n",
      "    \n",
      "    pow(x, y, /)\n",
      "        Return x**y (x to the power of y).\n",
      "    \n",
      "    prod(iterable, /, *, start=1)\n",
      "        Calculate the product of all the elements in the input iterable.\n",
      "        \n",
      "        The default start value for the product is 1.\n",
      "        \n",
      "        When the iterable is empty, return the start value.  This function is\n",
      "        intended specifically for use with numeric values and may reject\n",
      "        non-numeric types.\n",
      "    \n",
      "    radians(x, /)\n",
      "        Convert angle x from degrees to radians.\n",
      "    \n",
      "    remainder(x, y, /)\n",
      "        Difference between x and the closest integer multiple of y.\n",
      "        \n",
      "        Return x - n*y where n*y is the closest integer multiple of y.\n",
      "        In the case where x is exactly halfway between two multiples of\n",
      "        y, the nearest even value of n is used. The result is always exact.\n",
      "    \n",
      "    sin(x, /)\n",
      "        Return the sine of x (measured in radians).\n",
      "    \n",
      "    sinh(x, /)\n",
      "        Return the hyperbolic sine of x.\n",
      "    \n",
      "    sqrt(x, /)\n",
      "        Return the square root of x.\n",
      "    \n",
      "    tan(x, /)\n",
      "        Return the tangent of x (measured in radians).\n",
      "    \n",
      "    tanh(x, /)\n",
      "        Return the hyperbolic tangent of x.\n",
      "    \n",
      "    trunc(x, /)\n",
      "        Truncates the Real x to the nearest Integral toward 0.\n",
      "        \n",
      "        Uses the __trunc__ magic method.\n",
      "    \n",
      "    ulp(x, /)\n",
      "        Return the value of the least significant bit of the float x.\n",
      "\n",
      "DATA\n",
      "    e = 2.718281828459045\n",
      "    inf = inf\n",
      "    nan = nan\n",
      "    pi = 3.141592653589793\n",
      "    tau = 6.283185307179586\n",
      "\n",
      "FILE\n",
      "    (built-in)\n",
      "\n",
      "\n"
     ]
    }
   ],
   "source": [
    "import math\n",
    "help(math)"
   ]
  },
  {
   "cell_type": "markdown",
   "metadata": {},
   "source": [
    "### 4. random库 （ P27页）"
   ]
  },
  {
   "cell_type": "markdown",
   "metadata": {},
   "source": [
    "<font size=4.5 face=\"微软雅黑\"><b>random库采用梅森旋转算法（Mersenne Twister）生成伪随机数序列，可用于除随机性要求更高的加解密算法外的大多数工程应用。"
   ]
  },
  {
   "cell_type": "markdown",
   "metadata": {},
   "source": [
    "| 函数 | 描述  |  \n",
    "| ----: |:----: |\n",
    "|random()|生成一个 $[0.0 , 1.0)$之间的随机小数 |\n",
    "|randint(a,b)|生成一个 $[a,b]$之间的整数|\n",
    "|randrange(start,stop $[ , step]$)|生成一个$[start,stop)$之间以step为步长的随机整数|\n",
    "|sample(pop,k)|从pop类型中随机选取k个元素，以列表类型返回|\n",
    "|shuffle(seq)|将序列类型中的元素随机排列，返回打乱后的序列|\n",
    "|getrandbits(k)|生成一个 k 比特长度的随机整数|\n",
    "|uniform(a,b)|生成一个 $[a,b]$之间的随机小数|\n",
    "|choice(seq)|从序列类型，例如列表中随机返回一个元素|\n",
    "|seed(a=None)|初始化随机数种子，默认值为当前系统时间|"
   ]
  },
  {
   "cell_type": "code",
   "execution_count": 38,
   "metadata": {},
   "outputs": [
    {
     "name": "stdout",
     "output_type": "stream",
     "text": [
      "0.7333267499823283\n",
      "1\n",
      "70.38124595477039\n"
     ]
    }
   ],
   "source": [
    "from random import *\n",
    "print(random()) #海关进口物品，随机抽样，个体抽取概率 >0.5时抽取\n",
    "print(randint(1,5))#随机抽样1-5号物品\n",
    "print(uniform(40,100)) #学生体重随机生成kg"
   ]
  },
  {
   "cell_type": "code",
   "execution_count": 34,
   "metadata": {},
   "outputs": [
    {
     "data": {
      "text/plain": [
       "1"
      ]
     },
     "execution_count": 34,
     "metadata": {},
     "output_type": "execute_result"
    }
   ],
   "source": [
    "import random\n",
    "random.random()\n",
    "random.randint(1,5)"
   ]
  },
  {
   "cell_type": "code",
   "execution_count": 35,
   "metadata": {},
   "outputs": [
    {
     "name": "stdout",
     "output_type": "stream",
     "text": [
      "27\n"
     ]
    }
   ],
   "source": [
    "#随机产生一个两位整数\n",
    "from random import *\n",
    "x=randint(10,99)\n",
    "print(x)"
   ]
  },
  {
   "cell_type": "code",
   "execution_count": 4,
   "metadata": {},
   "outputs": [
    {
     "name": "stdout",
     "output_type": "stream",
     "text": [
      "只固定一次随机算法种子:\n",
      "27\n",
      "82\n",
      "18\n",
      "每次执行都重新固定随机算法种子:\n",
      "27\n",
      "27\n",
      "27\n"
     ]
    }
   ],
   "source": [
    "#随机产生3个两位整数\n",
    "from random import *\n",
    "seed(1) #固定随机算法种子\n",
    "print('只固定一次随机算法种子:')\n",
    "x=randint(10,99)\n",
    "print(x)\n",
    "x=randint(10,99)\n",
    "print(x)\n",
    "x=randint(10,99)\n",
    "print(x)\n",
    "\n",
    "print('每次执行都重新固定随机算法种子:')\n",
    "seed(1) #每次执行都重新固定随机算法种子\n",
    "x=randint(10,99)\n",
    "print(x)\n",
    "seed(1) #每次执行都重新固定随机算法种子\n",
    "x=randint(10,99)\n",
    "print(x)\n",
    "seed(1) #每次执行都重新固定随机算法种子\n",
    "x=randint(10,99)\n",
    "print(x)"
   ]
  },
  {
   "cell_type": "code",
   "execution_count": 42,
   "metadata": {},
   "outputs": [
    {
     "name": "stdout",
     "output_type": "stream",
     "text": [
      "72\n",
      "[97, 8, 32, 15, 63, 57, 60, 83, 48, 26]\n"
     ]
    }
   ],
   "source": [
    "from random import *\n",
    "#海关进口物品随机抽样\n",
    "print(choice(range(100)))\n",
    "print(sample(range(100),10))"
   ]
  },
  {
   "cell_type": "code",
   "execution_count": null,
   "metadata": {},
   "outputs": [],
   "source": []
  }
 ],
 "metadata": {
  "kernelspec": {
   "display_name": "Python 3 (ipykernel)",
   "language": "python",
   "name": "python3"
  },
  "language_info": {
   "codemirror_mode": {
    "name": "ipython",
    "version": 3
   },
   "file_extension": ".py",
   "mimetype": "text/x-python",
   "name": "python",
   "nbconvert_exporter": "python",
   "pygments_lexer": "ipython3",
   "version": "3.11.4"
  }
 },
 "nbformat": 4,
 "nbformat_minor": 2
}
